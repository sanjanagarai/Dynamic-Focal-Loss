{
  "nbformat": 4,
  "nbformat_minor": 0,
  "metadata": {
    "colab": {
      "provenance": []
    },
    "kernelspec": {
      "name": "python3",
      "display_name": "Python 3"
    },
    "language_info": {
      "name": "python"
    },
    "widgets": {
      "application/vnd.jupyter.widget-state+json": {
        "d408f9ea838848f6af793f857a9e2c79": {
          "model_module": "@jupyter-widgets/controls",
          "model_name": "HBoxModel",
          "model_module_version": "1.5.0",
          "state": {
            "_dom_classes": [],
            "_model_module": "@jupyter-widgets/controls",
            "_model_module_version": "1.5.0",
            "_model_name": "HBoxModel",
            "_view_count": null,
            "_view_module": "@jupyter-widgets/controls",
            "_view_module_version": "1.5.0",
            "_view_name": "HBoxView",
            "box_style": "",
            "children": [
              "IPY_MODEL_da70a41f9a134b03888c1be17bae6251",
              "IPY_MODEL_a7b0ba73be264bce86f2a4112c54d7c6",
              "IPY_MODEL_0b013145c5cb4399add7319c540e1ae3"
            ],
            "layout": "IPY_MODEL_1d9c03d67e9d4248880c1a60520fdaf7"
          }
        },
        "da70a41f9a134b03888c1be17bae6251": {
          "model_module": "@jupyter-widgets/controls",
          "model_name": "HTMLModel",
          "model_module_version": "1.5.0",
          "state": {
            "_dom_classes": [],
            "_model_module": "@jupyter-widgets/controls",
            "_model_module_version": "1.5.0",
            "_model_name": "HTMLModel",
            "_view_count": null,
            "_view_module": "@jupyter-widgets/controls",
            "_view_module_version": "1.5.0",
            "_view_name": "HTMLView",
            "description": "",
            "description_tooltip": null,
            "layout": "IPY_MODEL_e2287d180a6d404b995e27f9e2d6f459",
            "placeholder": "​",
            "style": "IPY_MODEL_3390c42e66174dc9a6a700ac6ac0d472",
            "value": "Dl Completed...: 100%"
          }
        },
        "a7b0ba73be264bce86f2a4112c54d7c6": {
          "model_module": "@jupyter-widgets/controls",
          "model_name": "FloatProgressModel",
          "model_module_version": "1.5.0",
          "state": {
            "_dom_classes": [],
            "_model_module": "@jupyter-widgets/controls",
            "_model_module_version": "1.5.0",
            "_model_name": "FloatProgressModel",
            "_view_count": null,
            "_view_module": "@jupyter-widgets/controls",
            "_view_module_version": "1.5.0",
            "_view_name": "ProgressView",
            "bar_style": "success",
            "description": "",
            "description_tooltip": null,
            "layout": "IPY_MODEL_0d93c33b590043798b8fe19d71dbfb11",
            "max": 5,
            "min": 0,
            "orientation": "horizontal",
            "style": "IPY_MODEL_b47227658d95409b95deb628198b05bc",
            "value": 5
          }
        },
        "0b013145c5cb4399add7319c540e1ae3": {
          "model_module": "@jupyter-widgets/controls",
          "model_name": "HTMLModel",
          "model_module_version": "1.5.0",
          "state": {
            "_dom_classes": [],
            "_model_module": "@jupyter-widgets/controls",
            "_model_module_version": "1.5.0",
            "_model_name": "HTMLModel",
            "_view_count": null,
            "_view_module": "@jupyter-widgets/controls",
            "_view_module_version": "1.5.0",
            "_view_name": "HTMLView",
            "description": "",
            "description_tooltip": null,
            "layout": "IPY_MODEL_2eee3be2d6004611a97d662f705160b9",
            "placeholder": "​",
            "style": "IPY_MODEL_d6fada7c434a41abb013cc7cedcf6def",
            "value": " 5/5 [00:00&lt;00:00, 14.72 file/s]"
          }
        },
        "1d9c03d67e9d4248880c1a60520fdaf7": {
          "model_module": "@jupyter-widgets/base",
          "model_name": "LayoutModel",
          "model_module_version": "1.2.0",
          "state": {
            "_model_module": "@jupyter-widgets/base",
            "_model_module_version": "1.2.0",
            "_model_name": "LayoutModel",
            "_view_count": null,
            "_view_module": "@jupyter-widgets/base",
            "_view_module_version": "1.2.0",
            "_view_name": "LayoutView",
            "align_content": null,
            "align_items": null,
            "align_self": null,
            "border": null,
            "bottom": null,
            "display": null,
            "flex": null,
            "flex_flow": null,
            "grid_area": null,
            "grid_auto_columns": null,
            "grid_auto_flow": null,
            "grid_auto_rows": null,
            "grid_column": null,
            "grid_gap": null,
            "grid_row": null,
            "grid_template_areas": null,
            "grid_template_columns": null,
            "grid_template_rows": null,
            "height": null,
            "justify_content": null,
            "justify_items": null,
            "left": null,
            "margin": null,
            "max_height": null,
            "max_width": null,
            "min_height": null,
            "min_width": null,
            "object_fit": null,
            "object_position": null,
            "order": null,
            "overflow": null,
            "overflow_x": null,
            "overflow_y": null,
            "padding": null,
            "right": null,
            "top": null,
            "visibility": null,
            "width": null
          }
        },
        "e2287d180a6d404b995e27f9e2d6f459": {
          "model_module": "@jupyter-widgets/base",
          "model_name": "LayoutModel",
          "model_module_version": "1.2.0",
          "state": {
            "_model_module": "@jupyter-widgets/base",
            "_model_module_version": "1.2.0",
            "_model_name": "LayoutModel",
            "_view_count": null,
            "_view_module": "@jupyter-widgets/base",
            "_view_module_version": "1.2.0",
            "_view_name": "LayoutView",
            "align_content": null,
            "align_items": null,
            "align_self": null,
            "border": null,
            "bottom": null,
            "display": null,
            "flex": null,
            "flex_flow": null,
            "grid_area": null,
            "grid_auto_columns": null,
            "grid_auto_flow": null,
            "grid_auto_rows": null,
            "grid_column": null,
            "grid_gap": null,
            "grid_row": null,
            "grid_template_areas": null,
            "grid_template_columns": null,
            "grid_template_rows": null,
            "height": null,
            "justify_content": null,
            "justify_items": null,
            "left": null,
            "margin": null,
            "max_height": null,
            "max_width": null,
            "min_height": null,
            "min_width": null,
            "object_fit": null,
            "object_position": null,
            "order": null,
            "overflow": null,
            "overflow_x": null,
            "overflow_y": null,
            "padding": null,
            "right": null,
            "top": null,
            "visibility": null,
            "width": null
          }
        },
        "3390c42e66174dc9a6a700ac6ac0d472": {
          "model_module": "@jupyter-widgets/controls",
          "model_name": "DescriptionStyleModel",
          "model_module_version": "1.5.0",
          "state": {
            "_model_module": "@jupyter-widgets/controls",
            "_model_module_version": "1.5.0",
            "_model_name": "DescriptionStyleModel",
            "_view_count": null,
            "_view_module": "@jupyter-widgets/base",
            "_view_module_version": "1.2.0",
            "_view_name": "StyleView",
            "description_width": ""
          }
        },
        "0d93c33b590043798b8fe19d71dbfb11": {
          "model_module": "@jupyter-widgets/base",
          "model_name": "LayoutModel",
          "model_module_version": "1.2.0",
          "state": {
            "_model_module": "@jupyter-widgets/base",
            "_model_module_version": "1.2.0",
            "_model_name": "LayoutModel",
            "_view_count": null,
            "_view_module": "@jupyter-widgets/base",
            "_view_module_version": "1.2.0",
            "_view_name": "LayoutView",
            "align_content": null,
            "align_items": null,
            "align_self": null,
            "border": null,
            "bottom": null,
            "display": null,
            "flex": null,
            "flex_flow": null,
            "grid_area": null,
            "grid_auto_columns": null,
            "grid_auto_flow": null,
            "grid_auto_rows": null,
            "grid_column": null,
            "grid_gap": null,
            "grid_row": null,
            "grid_template_areas": null,
            "grid_template_columns": null,
            "grid_template_rows": null,
            "height": null,
            "justify_content": null,
            "justify_items": null,
            "left": null,
            "margin": null,
            "max_height": null,
            "max_width": null,
            "min_height": null,
            "min_width": null,
            "object_fit": null,
            "object_position": null,
            "order": null,
            "overflow": null,
            "overflow_x": null,
            "overflow_y": null,
            "padding": null,
            "right": null,
            "top": null,
            "visibility": null,
            "width": null
          }
        },
        "b47227658d95409b95deb628198b05bc": {
          "model_module": "@jupyter-widgets/controls",
          "model_name": "ProgressStyleModel",
          "model_module_version": "1.5.0",
          "state": {
            "_model_module": "@jupyter-widgets/controls",
            "_model_module_version": "1.5.0",
            "_model_name": "ProgressStyleModel",
            "_view_count": null,
            "_view_module": "@jupyter-widgets/base",
            "_view_module_version": "1.2.0",
            "_view_name": "StyleView",
            "bar_color": null,
            "description_width": ""
          }
        },
        "2eee3be2d6004611a97d662f705160b9": {
          "model_module": "@jupyter-widgets/base",
          "model_name": "LayoutModel",
          "model_module_version": "1.2.0",
          "state": {
            "_model_module": "@jupyter-widgets/base",
            "_model_module_version": "1.2.0",
            "_model_name": "LayoutModel",
            "_view_count": null,
            "_view_module": "@jupyter-widgets/base",
            "_view_module_version": "1.2.0",
            "_view_name": "LayoutView",
            "align_content": null,
            "align_items": null,
            "align_self": null,
            "border": null,
            "bottom": null,
            "display": null,
            "flex": null,
            "flex_flow": null,
            "grid_area": null,
            "grid_auto_columns": null,
            "grid_auto_flow": null,
            "grid_auto_rows": null,
            "grid_column": null,
            "grid_gap": null,
            "grid_row": null,
            "grid_template_areas": null,
            "grid_template_columns": null,
            "grid_template_rows": null,
            "height": null,
            "justify_content": null,
            "justify_items": null,
            "left": null,
            "margin": null,
            "max_height": null,
            "max_width": null,
            "min_height": null,
            "min_width": null,
            "object_fit": null,
            "object_position": null,
            "order": null,
            "overflow": null,
            "overflow_x": null,
            "overflow_y": null,
            "padding": null,
            "right": null,
            "top": null,
            "visibility": null,
            "width": null
          }
        },
        "d6fada7c434a41abb013cc7cedcf6def": {
          "model_module": "@jupyter-widgets/controls",
          "model_name": "DescriptionStyleModel",
          "model_module_version": "1.5.0",
          "state": {
            "_model_module": "@jupyter-widgets/controls",
            "_model_module_version": "1.5.0",
            "_model_name": "DescriptionStyleModel",
            "_view_count": null,
            "_view_module": "@jupyter-widgets/base",
            "_view_module_version": "1.2.0",
            "_view_name": "StyleView",
            "description_width": ""
          }
        }
      }
    }
  },
  "cells": [
    {
      "cell_type": "markdown",
      "source": [
        "## Importing important modules"
      ],
      "metadata": {
        "id": "FawW9ri1m7Zi"
      }
    },
    {
      "cell_type": "code",
      "execution_count": 7,
      "metadata": {
        "id": "rB-4NtntkbL4"
      },
      "outputs": [],
      "source": [
        "import tensorflow as tf\n",
        "import tensorflow_datasets as tfds\n",
        "import matplotlib.pyplot as plt"
      ]
    },
    {
      "cell_type": "markdown",
      "source": [
        "## Loading the MNIST dataset"
      ],
      "metadata": {
        "id": "AZXo5Ydcm9_E"
      }
    },
    {
      "cell_type": "markdown",
      "source": [
        "Loading the train dataset"
      ],
      "metadata": {
        "id": "q1fhUaiGnAgX"
      }
    },
    {
      "cell_type": "code",
      "source": [
        "# Load the MNIST dataset from google for handwritten digits recognisition\n",
        "mnist = tfds.load(\"mnist\", split=\"train\", as_supervised=True)\n",
        "mnist = mnist.map(lambda x, y: (tf.image.convert_image_dtype(x, tf.float32), tf.one_hot(y, depth=10)))\n",
        "mnist = mnist.shuffle(buffer_size=60000).batch(64).prefetch(buffer_size=tf.data.AUTOTUNE)"
      ],
      "metadata": {
        "colab": {
          "base_uri": "https://localhost:8080/",
          "height": 104,
          "referenced_widgets": [
            "d408f9ea838848f6af793f857a9e2c79",
            "da70a41f9a134b03888c1be17bae6251",
            "a7b0ba73be264bce86f2a4112c54d7c6",
            "0b013145c5cb4399add7319c540e1ae3",
            "1d9c03d67e9d4248880c1a60520fdaf7",
            "e2287d180a6d404b995e27f9e2d6f459",
            "3390c42e66174dc9a6a700ac6ac0d472",
            "0d93c33b590043798b8fe19d71dbfb11",
            "b47227658d95409b95deb628198b05bc",
            "2eee3be2d6004611a97d662f705160b9",
            "d6fada7c434a41abb013cc7cedcf6def"
          ]
        },
        "id": "A8dgIvV6khde",
        "outputId": "18551600-ae44-476d-b983-ceb5095dd615"
      },
      "execution_count": 2,
      "outputs": [
        {
          "output_type": "stream",
          "name": "stdout",
          "text": [
            "Downloading and preparing dataset 11.06 MiB (download: 11.06 MiB, generated: 21.00 MiB, total: 32.06 MiB) to /root/tensorflow_datasets/mnist/3.0.1...\n"
          ]
        },
        {
          "output_type": "display_data",
          "data": {
            "text/plain": [
              "Dl Completed...:   0%|          | 0/5 [00:00<?, ? file/s]"
            ],
            "application/vnd.jupyter.widget-view+json": {
              "version_major": 2,
              "version_minor": 0,
              "model_id": "d408f9ea838848f6af793f857a9e2c79"
            }
          },
          "metadata": {}
        },
        {
          "output_type": "stream",
          "name": "stdout",
          "text": [
            "Dataset mnist downloaded and prepared to /root/tensorflow_datasets/mnist/3.0.1. Subsequent calls will reuse this data.\n"
          ]
        }
      ]
    },
    {
      "cell_type": "markdown",
      "source": [
        "Loading the test dataset"
      ],
      "metadata": {
        "id": "G454XrVsnDLD"
      }
    },
    {
      "cell_type": "code",
      "source": [
        "# Evaluating the model\n",
        "mnist_test = tfds.load('mnist', split=\"test\", as_supervised=True)\n",
        "mnist_test = mnist_test.map(lambda x, y: (tf.image.convert_image_dtype(x, tf.float32), tf.one_hot(y, depth=10)))\n",
        "mnist_test = mnist_test.batch(64).prefetch(buffer_size=tf.data.AUTOTUNE)"
      ],
      "metadata": {
        "id": "f-E7m3atki3B"
      },
      "execution_count": 3,
      "outputs": []
    },
    {
      "cell_type": "markdown",
      "source": [
        "Defining the CNN model"
      ],
      "metadata": {
        "id": "-_K6la6vnHDn"
      }
    },
    {
      "cell_type": "code",
      "source": [
        "# Define the model using relu activation function and softmax activation\n",
        "# Softmax activation is commonly used for the output layer in multi-class classification tasks.\n",
        "# Data set is digit recognisition\n",
        "model = tf.keras.Sequential([\n",
        "    tf.keras.layers.Flatten(input_shape=(28, 28, 1)),\n",
        "    tf.keras.layers.Dense(128, activation='relu'),\n",
        "    tf.keras.layers.Dense(10, activation='softmax')\n",
        "])"
      ],
      "metadata": {
        "id": "vtUfqqthkkbk"
      },
      "execution_count": 4,
      "outputs": []
    },
    {
      "cell_type": "markdown",
      "source": [
        "## Dynamic focal loss function"
      ],
      "metadata": {
        "id": "7uf_8rJTnKig"
      }
    },
    {
      "cell_type": "code",
      "source": [
        "def dynamic_focal_loss(y_true, y_pred, alpha=0.25):\n",
        "    # Compute the binary cross-entropy loss\n",
        "    binary_cross_entropy = tf.losses.binary_crossentropy(y_true, y_pred, from_logits=False)\n",
        "\n",
        "    p_t = tf.math.exp(-binary_cross_entropy)\n",
        "\n",
        "    alpha = 0.25\n",
        "\n",
        "    # Calculate the difficulty as the difference between the predicted probability of the true class\n",
        "    # and the maximum predicted probability across all classes\n",
        "    max_pred_prob = tf.reduce_max(y_pred, axis=1)\n",
        "    true_class_prob = tf.reduce_sum(y_true * y_pred, axis=1)\n",
        "    difficulty = tf.abs(true_class_prob - max_pred_prob)\n",
        "\n",
        "    # Calculate the adaptive gamma value as the difficulty\n",
        "    gamma = tf.exp(-difficulty)\n",
        "\n",
        "    # Calculate the focal loss\n",
        "    focal_loss = alpha * (1 - p_t) ** gamma * binary_cross_entropy\n",
        "\n",
        "    return focal_loss"
      ],
      "metadata": {
        "id": "Ea9_T_oMkmlu"
      },
      "execution_count": 5,
      "outputs": []
    },
    {
      "cell_type": "markdown",
      "source": [
        "Training the model"
      ],
      "metadata": {
        "id": "5ezhtfAZnNfu"
      }
    },
    {
      "cell_type": "code",
      "source": [
        "# Compiling the model with the Focal Loss\n",
        "model.compile(optimizer='adam', loss=dynamic_focal_loss, metrics=['accuracy'])\n",
        "\n",
        "# Training the model\n",
        "history = model.fit(mnist, epochs=30)\n",
        "\n",
        "# Plotting the graph of training loss and accuracy\n",
        "plt.figure(figsize=(8, 6))\n",
        "\n",
        "# Plot training loss values\n",
        "plt.subplot(2, 1, 1)\n",
        "plt.plot(history.history['loss'])\n",
        "plt.title('Training Loss and Accuracy')\n",
        "plt.xlabel('Epoch')\n",
        "plt.ylabel('Loss')\n",
        "plt.legend(['Train Loss'], loc='upper right')\n",
        "\n",
        "# Plot training accuracy values\n",
        "plt.subplot(2, 1, 2)\n",
        "plt.plot(history.history['accuracy'])\n",
        "plt.title('Training Accuracy')\n",
        "plt.xlabel('Epoch')\n",
        "plt.ylabel('Accuracy')\n",
        "plt.legend(['Train Accuracy'], loc='lower right')\n",
        "\n",
        "plt.tight_layout()\n",
        "plt.show()"
      ],
      "metadata": {
        "colab": {
          "base_uri": "https://localhost:8080/",
          "height": 1000
        },
        "id": "KaQtjg53l6HS",
        "outputId": "f9347b3a-d626-4265-f59d-0e01677bd6c5"
      },
      "execution_count": 8,
      "outputs": [
        {
          "output_type": "stream",
          "name": "stdout",
          "text": [
            "Epoch 1/30\n",
            "938/938 [==============================] - 5s 3ms/step - loss: 3.2545e-05 - accuracy: 0.9998\n",
            "Epoch 2/30\n",
            "938/938 [==============================] - 4s 2ms/step - loss: 9.5707e-05 - accuracy: 0.9987\n",
            "Epoch 3/30\n",
            "938/938 [==============================] - 5s 3ms/step - loss: 4.1238e-05 - accuracy: 0.9996\n",
            "Epoch 4/30\n",
            "938/938 [==============================] - 4s 2ms/step - loss: 1.1780e-05 - accuracy: 1.0000\n",
            "Epoch 5/30\n",
            "938/938 [==============================] - 4s 2ms/step - loss: 9.2678e-06 - accuracy: 1.0000\n",
            "Epoch 6/30\n",
            "938/938 [==============================] - 4s 2ms/step - loss: 7.2796e-05 - accuracy: 0.9991\n",
            "Epoch 7/30\n",
            "938/938 [==============================] - 4s 2ms/step - loss: 1.1978e-04 - accuracy: 0.9982\n",
            "Epoch 8/30\n",
            "938/938 [==============================] - 4s 3ms/step - loss: 1.7475e-05 - accuracy: 0.9999\n",
            "Epoch 9/30\n",
            "938/938 [==============================] - 3s 2ms/step - loss: 7.9152e-06 - accuracy: 1.0000\n",
            "Epoch 10/30\n",
            "938/938 [==============================] - 4s 2ms/step - loss: 6.2850e-06 - accuracy: 1.0000\n",
            "Epoch 11/30\n",
            "938/938 [==============================] - 4s 2ms/step - loss: 5.9769e-06 - accuracy: 1.0000\n",
            "Epoch 12/30\n",
            "938/938 [==============================] - 4s 2ms/step - loss: 1.5409e-04 - accuracy: 0.9980\n",
            "Epoch 13/30\n",
            "938/938 [==============================] - 4s 3ms/step - loss: 2.6272e-05 - accuracy: 0.9998\n",
            "Epoch 14/30\n",
            "938/938 [==============================] - 4s 2ms/step - loss: 7.2812e-06 - accuracy: 1.0000\n",
            "Epoch 15/30\n",
            "938/938 [==============================] - 4s 2ms/step - loss: 4.9271e-06 - accuracy: 1.0000\n",
            "Epoch 16/30\n",
            "938/938 [==============================] - 4s 2ms/step - loss: 4.2502e-06 - accuracy: 1.0000\n",
            "Epoch 17/30\n",
            "938/938 [==============================] - 4s 2ms/step - loss: 1.7005e-04 - accuracy: 0.9979\n",
            "Epoch 18/30\n",
            "938/938 [==============================] - 4s 2ms/step - loss: 2.3510e-05 - accuracy: 0.9998\n",
            "Epoch 19/30\n",
            "938/938 [==============================] - 4s 2ms/step - loss: 1.2383e-05 - accuracy: 1.0000\n",
            "Epoch 20/30\n",
            "938/938 [==============================] - 4s 3ms/step - loss: 4.3556e-06 - accuracy: 1.0000\n",
            "Epoch 21/30\n",
            "938/938 [==============================] - 4s 2ms/step - loss: 3.5129e-06 - accuracy: 1.0000\n",
            "Epoch 22/30\n",
            "938/938 [==============================] - 4s 2ms/step - loss: 2.9933e-06 - accuracy: 1.0000\n",
            "Epoch 23/30\n",
            "938/938 [==============================] - 4s 2ms/step - loss: 4.0470e-06 - accuracy: 1.0000\n",
            "Epoch 24/30\n",
            "938/938 [==============================] - 4s 2ms/step - loss: 1.8812e-04 - accuracy: 0.9977\n",
            "Epoch 25/30\n",
            "938/938 [==============================] - 4s 3ms/step - loss: 1.6062e-05 - accuracy: 0.9999\n",
            "Epoch 26/30\n",
            "938/938 [==============================] - 4s 2ms/step - loss: 4.4752e-06 - accuracy: 1.0000\n",
            "Epoch 27/30\n",
            "938/938 [==============================] - 4s 2ms/step - loss: 3.1078e-06 - accuracy: 1.0000\n",
            "Epoch 28/30\n",
            "938/938 [==============================] - 4s 2ms/step - loss: 2.4361e-06 - accuracy: 1.0000\n",
            "Epoch 29/30\n",
            "938/938 [==============================] - 4s 2ms/step - loss: 2.0540e-06 - accuracy: 1.0000\n",
            "Epoch 30/30\n",
            "938/938 [==============================] - 4s 3ms/step - loss: 1.8395e-06 - accuracy: 1.0000\n"
          ]
        },
        {
          "output_type": "display_data",
          "data": {
            "text/plain": [
              "<Figure size 800x600 with 2 Axes>"
            ],
            "image/png": "[encoded data removed]"
          },
          "metadata": {}
        }
      ]
    },
    {
      "cell_type": "markdown",
      "source": [
        "Evaluating the model"
      ],
      "metadata": {
        "id": "XD6EyI3SnQIX"
      }
    },
    {
      "cell_type": "code",
      "source": [
        "loss, accuracy = model.evaluate(mnist_test)\n",
        "\n",
        "print(f\"Test Loss: {loss}, Test Accuracy: {accuracy}\")\n"
      ],
      "metadata": {
        "colab": {
          "base_uri": "https://localhost:8080/"
        },
        "id": "9QM2AkVgl8jC",
        "outputId": "b9ebd0f9-4e56-483a-b4c3-f91c2547aaf4"
      },
      "execution_count": 9,
      "outputs": [
        {
          "output_type": "stream",
          "name": "stdout",
          "text": [
            "157/157 [==============================] - 2s 9ms/step - loss: 0.0025 - accuracy: 0.9824\n",
            "Test Loss: 0.002463872078806162, Test Accuracy: 0.9824000000953674\n"
          ]
        }
      ]
    },
    {
      "cell_type": "code",
      "source": [],
      "metadata": {
        "id": "3QJhiLXPq7aH"
      },
      "execution_count": null,
      "outputs": []
    }
  ]
}