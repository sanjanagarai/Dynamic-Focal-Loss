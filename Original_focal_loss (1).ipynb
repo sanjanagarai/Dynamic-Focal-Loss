{
  "nbformat": 4,
  "nbformat_minor": 0,
  "metadata": {
    "colab": {
      "provenance": [],
      "gpuType": "T4"
    },
    "kernelspec": {
      "name": "python3",
      "display_name": "Python 3"
    },
    "language_info": {
      "name": "python"
    },
    "accelerator": "GPU",
    "widgets": {
      "application/vnd.jupyter.widget-state+json": {
        "02de461ddc8945cca3d41263baf4a57a": {
          "model_module": "@jupyter-widgets/controls",
          "model_name": "HBoxModel",
          "model_module_version": "1.5.0",
          "state": {
            "_dom_classes": [],
            "_model_module": "@jupyter-widgets/controls",
            "_model_module_version": "1.5.0",
            "_model_name": "HBoxModel",
            "_view_count": null,
            "_view_module": "@jupyter-widgets/controls",
            "_view_module_version": "1.5.0",
            "_view_name": "HBoxView",
            "box_style": "",
            "children": [
              "IPY_MODEL_69bde91cc04c4bf19cf0bbc0a57de8e5",
              "IPY_MODEL_3983025ade4e448eb5c627755ef9d688",
              "IPY_MODEL_a5a279bd62a94f599007f39c88da8c3d"
            ],
            "layout": "IPY_MODEL_8b8e3dc164244d2e874b5dfb9505864d"
          }
        },
        "69bde91cc04c4bf19cf0bbc0a57de8e5": {
          "model_module": "@jupyter-widgets/controls",
          "model_name": "HTMLModel",
          "model_module_version": "1.5.0",
          "state": {
            "_dom_classes": [],
            "_model_module": "@jupyter-widgets/controls",
            "_model_module_version": "1.5.0",
            "_model_name": "HTMLModel",
            "_view_count": null,
            "_view_module": "@jupyter-widgets/controls",
            "_view_module_version": "1.5.0",
            "_view_name": "HTMLView",
            "description": "",
            "description_tooltip": null,
            "layout": "IPY_MODEL_8965b49a65504d7c94016012d52ced50",
            "placeholder": "​",
            "style": "IPY_MODEL_6c7d6b82e5ab434884b8b5b3430c83ec",
            "value": "Dl Completed...: 100%"
          }
        },
        "3983025ade4e448eb5c627755ef9d688": {
          "model_module": "@jupyter-widgets/controls",
          "model_name": "FloatProgressModel",
          "model_module_version": "1.5.0",
          "state": {
            "_dom_classes": [],
            "_model_module": "@jupyter-widgets/controls",
            "_model_module_version": "1.5.0",
            "_model_name": "FloatProgressModel",
            "_view_count": null,
            "_view_module": "@jupyter-widgets/controls",
            "_view_module_version": "1.5.0",
            "_view_name": "ProgressView",
            "bar_style": "success",
            "description": "",
            "description_tooltip": null,
            "layout": "IPY_MODEL_17e1941e5e1847dab0f566dcce53c6c7",
            "max": 5,
            "min": 0,
            "orientation": "horizontal",
            "style": "IPY_MODEL_97698fd796c241379795988ddb06eed6",
            "value": 5
          }
        },
        "a5a279bd62a94f599007f39c88da8c3d": {
          "model_module": "@jupyter-widgets/controls",
          "model_name": "HTMLModel",
          "model_module_version": "1.5.0",
          "state": {
            "_dom_classes": [],
            "_model_module": "@jupyter-widgets/controls",
            "_model_module_version": "1.5.0",
            "_model_name": "HTMLModel",
            "_view_count": null,
            "_view_module": "@jupyter-widgets/controls",
            "_view_module_version": "1.5.0",
            "_view_name": "HTMLView",
            "description": "",
            "description_tooltip": null,
            "layout": "IPY_MODEL_91a83a59eec048668f42d7710e5c75eb",
            "placeholder": "​",
            "style": "IPY_MODEL_1713008b86394dc5aed45855893df09f",
            "value": " 5/5 [00:00&lt;00:00,  5.22 file/s]"
          }
        },
        "8b8e3dc164244d2e874b5dfb9505864d": {
          "model_module": "@jupyter-widgets/base",
          "model_name": "LayoutModel",
          "model_module_version": "1.2.0",
          "state": {
            "_model_module": "@jupyter-widgets/base",
            "_model_module_version": "1.2.0",
            "_model_name": "LayoutModel",
            "_view_count": null,
            "_view_module": "@jupyter-widgets/base",
            "_view_module_version": "1.2.0",
            "_view_name": "LayoutView",
            "align_content": null,
            "align_items": null,
            "align_self": null,
            "border": null,
            "bottom": null,
            "display": null,
            "flex": null,
            "flex_flow": null,
            "grid_area": null,
            "grid_auto_columns": null,
            "grid_auto_flow": null,
            "grid_auto_rows": null,
            "grid_column": null,
            "grid_gap": null,
            "grid_row": null,
            "grid_template_areas": null,
            "grid_template_columns": null,
            "grid_template_rows": null,
            "height": null,
            "justify_content": null,
            "justify_items": null,
            "left": null,
            "margin": null,
            "max_height": null,
            "max_width": null,
            "min_height": null,
            "min_width": null,
            "object_fit": null,
            "object_position": null,
            "order": null,
            "overflow": null,
            "overflow_x": null,
            "overflow_y": null,
            "padding": null,
            "right": null,
            "top": null,
            "visibility": null,
            "width": null
          }
        },
        "8965b49a65504d7c94016012d52ced50": {
          "model_module": "@jupyter-widgets/base",
          "model_name": "LayoutModel",
          "model_module_version": "1.2.0",
          "state": {
            "_model_module": "@jupyter-widgets/base",
            "_model_module_version": "1.2.0",
            "_model_name": "LayoutModel",
            "_view_count": null,
            "_view_module": "@jupyter-widgets/base",
            "_view_module_version": "1.2.0",
            "_view_name": "LayoutView",
            "align_content": null,
            "align_items": null,
            "align_self": null,
            "border": null,
            "bottom": null,
            "display": null,
            "flex": null,
            "flex_flow": null,
            "grid_area": null,
            "grid_auto_columns": null,
            "grid_auto_flow": null,
            "grid_auto_rows": null,
            "grid_column": null,
            "grid_gap": null,
            "grid_row": null,
            "grid_template_areas": null,
            "grid_template_columns": null,
            "grid_template_rows": null,
            "height": null,
            "justify_content": null,
            "justify_items": null,
            "left": null,
            "margin": null,
            "max_height": null,
            "max_width": null,
            "min_height": null,
            "min_width": null,
            "object_fit": null,
            "object_position": null,
            "order": null,
            "overflow": null,
            "overflow_x": null,
            "overflow_y": null,
            "padding": null,
            "right": null,
            "top": null,
            "visibility": null,
            "width": null
          }
        },
        "6c7d6b82e5ab434884b8b5b3430c83ec": {
          "model_module": "@jupyter-widgets/controls",
          "model_name": "DescriptionStyleModel",
          "model_module_version": "1.5.0",
          "state": {
            "_model_module": "@jupyter-widgets/controls",
            "_model_module_version": "1.5.0",
            "_model_name": "DescriptionStyleModel",
            "_view_count": null,
            "_view_module": "@jupyter-widgets/base",
            "_view_module_version": "1.2.0",
            "_view_name": "StyleView",
            "description_width": ""
          }
        },
        "17e1941e5e1847dab0f566dcce53c6c7": {
          "model_module": "@jupyter-widgets/base",
          "model_name": "LayoutModel",
          "model_module_version": "1.2.0",
          "state": {
            "_model_module": "@jupyter-widgets/base",
            "_model_module_version": "1.2.0",
            "_model_name": "LayoutModel",
            "_view_count": null,
            "_view_module": "@jupyter-widgets/base",
            "_view_module_version": "1.2.0",
            "_view_name": "LayoutView",
            "align_content": null,
            "align_items": null,
            "align_self": null,
            "border": null,
            "bottom": null,
            "display": null,
            "flex": null,
            "flex_flow": null,
            "grid_area": null,
            "grid_auto_columns": null,
            "grid_auto_flow": null,
            "grid_auto_rows": null,
            "grid_column": null,
            "grid_gap": null,
            "grid_row": null,
            "grid_template_areas": null,
            "grid_template_columns": null,
            "grid_template_rows": null,
            "height": null,
            "justify_content": null,
            "justify_items": null,
            "left": null,
            "margin": null,
            "max_height": null,
            "max_width": null,
            "min_height": null,
            "min_width": null,
            "object_fit": null,
            "object_position": null,
            "order": null,
            "overflow": null,
            "overflow_x": null,
            "overflow_y": null,
            "padding": null,
            "right": null,
            "top": null,
            "visibility": null,
            "width": null
          }
        },
        "97698fd796c241379795988ddb06eed6": {
          "model_module": "@jupyter-widgets/controls",
          "model_name": "ProgressStyleModel",
          "model_module_version": "1.5.0",
          "state": {
            "_model_module": "@jupyter-widgets/controls",
            "_model_module_version": "1.5.0",
            "_model_name": "ProgressStyleModel",
            "_view_count": null,
            "_view_module": "@jupyter-widgets/base",
            "_view_module_version": "1.2.0",
            "_view_name": "StyleView",
            "bar_color": null,
            "description_width": ""
          }
        },
        "91a83a59eec048668f42d7710e5c75eb": {
          "model_module": "@jupyter-widgets/base",
          "model_name": "LayoutModel",
          "model_module_version": "1.2.0",
          "state": {
            "_model_module": "@jupyter-widgets/base",
            "_model_module_version": "1.2.0",
            "_model_name": "LayoutModel",
            "_view_count": null,
            "_view_module": "@jupyter-widgets/base",
            "_view_module_version": "1.2.0",
            "_view_name": "LayoutView",
            "align_content": null,
            "align_items": null,
            "align_self": null,
            "border": null,
            "bottom": null,
            "display": null,
            "flex": null,
            "flex_flow": null,
            "grid_area": null,
            "grid_auto_columns": null,
            "grid_auto_flow": null,
            "grid_auto_rows": null,
            "grid_column": null,
            "grid_gap": null,
            "grid_row": null,
            "grid_template_areas": null,
            "grid_template_columns": null,
            "grid_template_rows": null,
            "height": null,
            "justify_content": null,
            "justify_items": null,
            "left": null,
            "margin": null,
            "max_height": null,
            "max_width": null,
            "min_height": null,
            "min_width": null,
            "object_fit": null,
            "object_position": null,
            "order": null,
            "overflow": null,
            "overflow_x": null,
            "overflow_y": null,
            "padding": null,
            "right": null,
            "top": null,
            "visibility": null,
            "width": null
          }
        },
        "1713008b86394dc5aed45855893df09f": {
          "model_module": "@jupyter-widgets/controls",
          "model_name": "DescriptionStyleModel",
          "model_module_version": "1.5.0",
          "state": {
            "_model_module": "@jupyter-widgets/controls",
            "_model_module_version": "1.5.0",
            "_model_name": "DescriptionStyleModel",
            "_view_count": null,
            "_view_module": "@jupyter-widgets/base",
            "_view_module_version": "1.2.0",
            "_view_name": "StyleView",
            "description_width": ""
          }
        }
      }
    }
  },
  "cells": [
    {
      "cell_type": "markdown",
      "source": [
        "## Importing important modules"
      ],
      "metadata": {
        "id": "Vgwh_NgCete9"
      }
    },
    {
      "cell_type": "code",
      "source": [
        "import tensorflow as tf\n",
        "import tensorflow_datasets as tfds\n",
        "import matplotlib.pyplot as plt"
      ],
      "metadata": {
        "id": "kfgzozjsesTa"
      },
      "execution_count": 9,
      "outputs": []
    },
    {
      "cell_type": "markdown",
      "source": [
        "## Loading the MNIST Data set"
      ],
      "metadata": {
        "id": "cot-cN3mfEWl"
      }
    },
    {
      "cell_type": "markdown",
      "source": [
        "Loading the train dataset"
      ],
      "metadata": {
        "id": "bQpUL5VifH8S"
      }
    },
    {
      "cell_type": "code",
      "source": [
        "# Load the MNIST dataset from google for handwritten digits recognisition\n",
        "mnist = tfds.load(\"mnist\", split=\"train\", as_supervised=True)\n",
        "mnist = mnist.map(lambda x, y: (tf.image.convert_image_dtype(x, tf.float32), tf.one_hot(y, depth=10)))\n",
        "mnist = mnist.shuffle(buffer_size=60000).batch(64).prefetch(buffer_size=tf.data.AUTOTUNE)"
      ],
      "metadata": {
        "id": "K_vJVvP1fC8t",
        "colab": {
          "base_uri": "https://localhost:8080/",
          "height": 104,
          "referenced_widgets": [
            "02de461ddc8945cca3d41263baf4a57a",
            "69bde91cc04c4bf19cf0bbc0a57de8e5",
            "3983025ade4e448eb5c627755ef9d688",
            "a5a279bd62a94f599007f39c88da8c3d",
            "8b8e3dc164244d2e874b5dfb9505864d",
            "8965b49a65504d7c94016012d52ced50",
            "6c7d6b82e5ab434884b8b5b3430c83ec",
            "17e1941e5e1847dab0f566dcce53c6c7",
            "97698fd796c241379795988ddb06eed6",
            "91a83a59eec048668f42d7710e5c75eb",
            "1713008b86394dc5aed45855893df09f"
          ]
        },
        "outputId": "18e696b1-386c-4f7f-a67d-c31aba695618"
      },
      "execution_count": 2,
      "outputs": [
        {
          "output_type": "stream",
          "name": "stdout",
          "text": [
            "Downloading and preparing dataset 11.06 MiB (download: 11.06 MiB, generated: 21.00 MiB, total: 32.06 MiB) to /root/tensorflow_datasets/mnist/3.0.1...\n"
          ]
        },
        {
          "output_type": "display_data",
          "data": {
            "text/plain": [
              "Dl Completed...:   0%|          | 0/5 [00:00<?, ? file/s]"
            ],
            "application/vnd.jupyter.widget-view+json": {
              "version_major": 2,
              "version_minor": 0,
              "model_id": "02de461ddc8945cca3d41263baf4a57a"
            }
          },
          "metadata": {}
        },
        {
          "output_type": "stream",
          "name": "stdout",
          "text": [
            "Dataset mnist downloaded and prepared to /root/tensorflow_datasets/mnist/3.0.1. Subsequent calls will reuse this data.\n"
          ]
        }
      ]
    },
    {
      "cell_type": "markdown",
      "source": [
        "Loading the test dataset"
      ],
      "metadata": {
        "id": "H1Pg8JuEfJtl"
      }
    },
    {
      "cell_type": "code",
      "source": [
        "# Evaluating the model\n",
        "mnist_test = tfds.load('mnist', split=\"test\", as_supervised=True)\n",
        "mnist_test = mnist_test.map(lambda x, y: (tf.image.convert_image_dtype(x, tf.float32), tf.one_hot(y, depth=10)))\n",
        "mnist_test = mnist_test.batch(64).prefetch(buffer_size=tf.data.AUTOTUNE)"
      ],
      "metadata": {
        "id": "2hG6vfa4fOgQ"
      },
      "execution_count": 3,
      "outputs": []
    },
    {
      "cell_type": "markdown",
      "source": [
        "Defining the CNN model"
      ],
      "metadata": {
        "id": "lxJzj_eafTJ_"
      }
    },
    {
      "cell_type": "code",
      "source": [
        "# Define the model using relu activation function and softmax activation\n",
        "#Softmax activation is commonly used for the output layer in multi-class classification tasks.\n",
        "#Data set is digit recognisition\n",
        "model = tf.keras.Sequential([\n",
        "    tf.keras.layers.Flatten(input_shape=(28, 28, 1)),\n",
        "    tf.keras.layers.Dense(128, activation='relu'),\n",
        "    tf.keras.layers.Dense(10, activation='softmax')\n",
        "])"
      ],
      "metadata": {
        "id": "u7YfrkhEfSnL"
      },
      "execution_count": 4,
      "outputs": []
    },
    {
      "cell_type": "markdown",
      "source": [
        "## Original Focal Loss function"
      ],
      "metadata": {
        "id": "82lRJqz4e5rO"
      }
    },
    {
      "cell_type": "code",
      "source": [
        "# Define the Focal Loss function\n",
        "def focal_loss(y_true, y_pred, gamma=2.0, alpha=0.25):\n",
        "    # Compute the binary cross-entropy loss\n",
        "    binary_cross_entropy = tf.losses.binary_crossentropy(y_true, y_pred, from_logits=False)\n",
        "\n",
        "    # Calculate the modulating factor\n",
        "    p_t = tf.math.exp(-binary_cross_entropy)\n",
        "    focal_loss = alpha * (1 - p_t) ** gamma * binary_cross_entropy\n",
        "\n",
        "    return focal_loss"
      ],
      "metadata": {
        "id": "J-7NBXYpOHWt"
      },
      "execution_count": 5,
      "outputs": []
    },
    {
      "cell_type": "markdown",
      "source": [
        "Training the model"
      ],
      "metadata": {
        "id": "baWUHAbEfe8l"
      }
    },
    {
      "cell_type": "code",
      "source": [
        "# Compiling the model with the Focal Loss\n",
        "model.compile(optimizer='adam', loss=focal_loss, metrics=['accuracy'])\n",
        "\n",
        "# Training the model\n",
        "history = model.fit(mnist, epochs=30)\n",
        "\n",
        "# Plotting the graph of training loss\n",
        "plt.figure(figsize=(6, 4))\n",
        "\n",
        "# Plot training loss values\n",
        "plt.plot(history.history['loss'])\n",
        "plt.title('Training Loss')\n",
        "plt.xlabel('Epoch')\n",
        "plt.ylabel('Loss')\n",
        "plt.legend(['Train'], loc='upper right')\n",
        "\n",
        "plt.show()"
      ],
      "metadata": {
        "colab": {
          "base_uri": "https://localhost:8080/",
          "height": 1000
        },
        "id": "aRLm_vwRfaxR",
        "outputId": "3e90c197-129c-43a4-c8a0-5e1b382e79b1"
      },
      "execution_count": 19,
      "outputs": [
        {
          "output_type": "stream",
          "name": "stdout",
          "text": [
            "Epoch 1/30\n",
            "938/938 [==============================] - 7s 4ms/step - loss: 6.2106e-09 - accuracy: 1.0000\n",
            "Epoch 2/30\n",
            "938/938 [==============================] - 5s 4ms/step - loss: 6.1882e-09 - accuracy: 1.0000\n",
            "Epoch 3/30\n",
            "938/938 [==============================] - 5s 3ms/step - loss: 6.1054e-09 - accuracy: 1.0000\n",
            "Epoch 4/30\n",
            "938/938 [==============================] - 6s 4ms/step - loss: 5.9882e-09 - accuracy: 1.0000\n",
            "Epoch 5/30\n",
            "938/938 [==============================] - 5s 4ms/step - loss: 5.8316e-09 - accuracy: 1.0000\n",
            "Epoch 6/30\n",
            "938/938 [==============================] - 6s 4ms/step - loss: 5.7455e-09 - accuracy: 1.0000\n",
            "Epoch 7/30\n",
            "938/938 [==============================] - 6s 4ms/step - loss: 5.5992e-09 - accuracy: 1.0000\n",
            "Epoch 8/30\n",
            "938/938 [==============================] - 5s 3ms/step - loss: 5.4860e-09 - accuracy: 1.0000\n",
            "Epoch 9/30\n",
            "938/938 [==============================] - 6s 4ms/step - loss: 5.3898e-09 - accuracy: 1.0000\n",
            "Epoch 10/30\n",
            "938/938 [==============================] - 5s 3ms/step - loss: 5.2818e-09 - accuracy: 1.0000\n",
            "Epoch 11/30\n",
            "938/938 [==============================] - 5s 3ms/step - loss: 5.1732e-09 - accuracy: 1.0000\n",
            "Epoch 12/30\n",
            "938/938 [==============================] - 6s 4ms/step - loss: 5.0622e-09 - accuracy: 1.0000\n",
            "Epoch 13/30\n",
            "938/938 [==============================] - 5s 4ms/step - loss: 4.9831e-09 - accuracy: 1.0000\n",
            "Epoch 14/30\n",
            "938/938 [==============================] - 6s 4ms/step - loss: 4.8949e-09 - accuracy: 1.0000\n",
            "Epoch 15/30\n",
            "938/938 [==============================] - 5s 4ms/step - loss: 4.7896e-09 - accuracy: 1.0000\n",
            "Epoch 16/30\n",
            "938/938 [==============================] - 5s 3ms/step - loss: 4.7204e-09 - accuracy: 1.0000\n",
            "Epoch 17/30\n",
            "938/938 [==============================] - 6s 4ms/step - loss: 4.6344e-09 - accuracy: 1.0000\n",
            "Epoch 18/30\n",
            "938/938 [==============================] - 5s 3ms/step - loss: 4.5620e-09 - accuracy: 1.0000\n",
            "Epoch 19/30\n",
            "938/938 [==============================] - 6s 4ms/step - loss: 4.4839e-09 - accuracy: 1.0000\n",
            "Epoch 20/30\n",
            "938/938 [==============================] - 6s 4ms/step - loss: 4.3963e-09 - accuracy: 1.0000\n",
            "Epoch 21/30\n",
            "938/938 [==============================] - 6s 4ms/step - loss: 4.3298e-09 - accuracy: 1.0000\n",
            "Epoch 22/30\n",
            "938/938 [==============================] - 6s 4ms/step - loss: 4.2461e-09 - accuracy: 1.0000\n",
            "Epoch 23/30\n",
            "938/938 [==============================] - 5s 3ms/step - loss: 4.1920e-09 - accuracy: 1.0000\n",
            "Epoch 24/30\n",
            "938/938 [==============================] - 5s 4ms/step - loss: 4.1291e-09 - accuracy: 1.0000\n",
            "Epoch 25/30\n",
            "938/938 [==============================] - 6s 3ms/step - loss: 4.0660e-09 - accuracy: 1.0000\n",
            "Epoch 26/30\n",
            "938/938 [==============================] - 5s 3ms/step - loss: 4.0007e-09 - accuracy: 1.0000\n",
            "Epoch 27/30\n",
            "938/938 [==============================] - 6s 4ms/step - loss: 3.9420e-09 - accuracy: 1.0000\n",
            "Epoch 28/30\n",
            "938/938 [==============================] - 5s 4ms/step - loss: 3.8808e-09 - accuracy: 1.0000\n",
            "Epoch 29/30\n",
            "938/938 [==============================] - 6s 4ms/step - loss: 3.8285e-09 - accuracy: 1.0000\n",
            "Epoch 30/30\n",
            "938/938 [==============================] - 5s 3ms/step - loss: 3.7769e-09 - accuracy: 1.0000\n"
          ]
        },
        {
          "output_type": "display_data",
          "data": {
            "text/plain": [
              "<Figure size 600x400 with 1 Axes>"
            ],
            "image/png": "[encoded data removed]"
          },
          "metadata": {}
        }
      ]
    },
    {
      "cell_type": "markdown",
      "source": [
        "Evaluating the model"
      ],
      "metadata": {
        "id": "hUg70xTZfhuP"
      }
    },
    {
      "cell_type": "code",
      "source": [
        "loss, accuracy = model.evaluate(mnist_test)\n",
        "print(f\"Test Loss: {loss}, Test Accuracy: {accuracy}\")\n",
        "if loss<0.1:\n",
        "  print(\"Loss is very low tending to 0 and so is a good fit to the model\")"
      ],
      "metadata": {
        "colab": {
          "base_uri": "https://localhost:8080/"
        },
        "id": "X1_pVpvXfjVv",
        "outputId": "84d99c2d-21be-453b-8129-a6a62a705aff"
      },
      "execution_count": 20,
      "outputs": [
        {
          "output_type": "stream",
          "name": "stdout",
          "text": [
            "157/157 [==============================] - 1s 4ms/step - loss: 0.0012 - accuracy: 0.9820\n",
            "Test Loss: 0.0011609112843871117, Test Accuracy: 0.9819999933242798\n",
            "Loss is very low tending to 0 and so is a good fit to the model\n"
          ]
        }
      ]
    },
    {
      "cell_type": "code",
      "source": [],
      "metadata": {
        "id": "5Y_EmW5zoRG2"
      },
      "execution_count": null,
      "outputs": []
    }
  ]
}