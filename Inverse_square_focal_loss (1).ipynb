{
  "nbformat": 4,
  "nbformat_minor": 0,
  "metadata": {
    "colab": {
      "provenance": []
    },
    "kernelspec": {
      "name": "python3",
      "display_name": "Python 3"
    },
    "language_info": {
      "name": "python"
    },
    "widgets": {
      "application/vnd.jupyter.widget-state+json": {
        "b4e74d729ee447cc89a5937e058d9a74": {
          "model_module": "@jupyter-widgets/controls",
          "model_name": "HBoxModel",
          "model_module_version": "1.5.0",
          "state": {
            "_dom_classes": [],
            "_model_module": "@jupyter-widgets/controls",
            "_model_module_version": "1.5.0",
            "_model_name": "HBoxModel",
            "_view_count": null,
            "_view_module": "@jupyter-widgets/controls",
            "_view_module_version": "1.5.0",
            "_view_name": "HBoxView",
            "box_style": "",
            "children": [
              "IPY_MODEL_0d36ca0931e0444db833194076cc364b",
              "IPY_MODEL_5a5e97827cd64d66b94acfbc1189f367",
              "IPY_MODEL_d02754bb9c244e9289a33839a0821034"
            ],
            "layout": "IPY_MODEL_1d8fc0c18aaa4788bd761248538e5861"
          }
        },
        "0d36ca0931e0444db833194076cc364b": {
          "model_module": "@jupyter-widgets/controls",
          "model_name": "HTMLModel",
          "model_module_version": "1.5.0",
          "state": {
            "_dom_classes": [],
            "_model_module": "@jupyter-widgets/controls",
            "_model_module_version": "1.5.0",
            "_model_name": "HTMLModel",
            "_view_count": null,
            "_view_module": "@jupyter-widgets/controls",
            "_view_module_version": "1.5.0",
            "_view_name": "HTMLView",
            "description": "",
            "description_tooltip": null,
            "layout": "IPY_MODEL_b841a90c8c2e4f2c9cb894a0e8e051b6",
            "placeholder": "​",
            "style": "IPY_MODEL_cee77669dc2c47079b978ef98ff4861d",
            "value": "Dl Completed...: 100%"
          }
        },
        "5a5e97827cd64d66b94acfbc1189f367": {
          "model_module": "@jupyter-widgets/controls",
          "model_name": "FloatProgressModel",
          "model_module_version": "1.5.0",
          "state": {
            "_dom_classes": [],
            "_model_module": "@jupyter-widgets/controls",
            "_model_module_version": "1.5.0",
            "_model_name": "FloatProgressModel",
            "_view_count": null,
            "_view_module": "@jupyter-widgets/controls",
            "_view_module_version": "1.5.0",
            "_view_name": "ProgressView",
            "bar_style": "success",
            "description": "",
            "description_tooltip": null,
            "layout": "IPY_MODEL_e5eb44dffa1b44348d278686274d0490",
            "max": 5,
            "min": 0,
            "orientation": "horizontal",
            "style": "IPY_MODEL_500c6f4145124926a9780c527443b2b1",
            "value": 5
          }
        },
        "d02754bb9c244e9289a33839a0821034": {
          "model_module": "@jupyter-widgets/controls",
          "model_name": "HTMLModel",
          "model_module_version": "1.5.0",
          "state": {
            "_dom_classes": [],
            "_model_module": "@jupyter-widgets/controls",
            "_model_module_version": "1.5.0",
            "_model_name": "HTMLModel",
            "_view_count": null,
            "_view_module": "@jupyter-widgets/controls",
            "_view_module_version": "1.5.0",
            "_view_name": "HTMLView",
            "description": "",
            "description_tooltip": null,
            "layout": "IPY_MODEL_741dcaef83f5443dabd78303a683c6a9",
            "placeholder": "​",
            "style": "IPY_MODEL_a4a1e50379d24f468d178fb9d39b748f",
            "value": " 5/5 [00:00&lt;00:00, 13.62 file/s]"
          }
        },
        "1d8fc0c18aaa4788bd761248538e5861": {
          "model_module": "@jupyter-widgets/base",
          "model_name": "LayoutModel",
          "model_module_version": "1.2.0",
          "state": {
            "_model_module": "@jupyter-widgets/base",
            "_model_module_version": "1.2.0",
            "_model_name": "LayoutModel",
            "_view_count": null,
            "_view_module": "@jupyter-widgets/base",
            "_view_module_version": "1.2.0",
            "_view_name": "LayoutView",
            "align_content": null,
            "align_items": null,
            "align_self": null,
            "border": null,
            "bottom": null,
            "display": null,
            "flex": null,
            "flex_flow": null,
            "grid_area": null,
            "grid_auto_columns": null,
            "grid_auto_flow": null,
            "grid_auto_rows": null,
            "grid_column": null,
            "grid_gap": null,
            "grid_row": null,
            "grid_template_areas": null,
            "grid_template_columns": null,
            "grid_template_rows": null,
            "height": null,
            "justify_content": null,
            "justify_items": null,
            "left": null,
            "margin": null,
            "max_height": null,
            "max_width": null,
            "min_height": null,
            "min_width": null,
            "object_fit": null,
            "object_position": null,
            "order": null,
            "overflow": null,
            "overflow_x": null,
            "overflow_y": null,
            "padding": null,
            "right": null,
            "top": null,
            "visibility": null,
            "width": null
          }
        },
        "b841a90c8c2e4f2c9cb894a0e8e051b6": {
          "model_module": "@jupyter-widgets/base",
          "model_name": "LayoutModel",
          "model_module_version": "1.2.0",
          "state": {
            "_model_module": "@jupyter-widgets/base",
            "_model_module_version": "1.2.0",
            "_model_name": "LayoutModel",
            "_view_count": null,
            "_view_module": "@jupyter-widgets/base",
            "_view_module_version": "1.2.0",
            "_view_name": "LayoutView",
            "align_content": null,
            "align_items": null,
            "align_self": null,
            "border": null,
            "bottom": null,
            "display": null,
            "flex": null,
            "flex_flow": null,
            "grid_area": null,
            "grid_auto_columns": null,
            "grid_auto_flow": null,
            "grid_auto_rows": null,
            "grid_column": null,
            "grid_gap": null,
            "grid_row": null,
            "grid_template_areas": null,
            "grid_template_columns": null,
            "grid_template_rows": null,
            "height": null,
            "justify_content": null,
            "justify_items": null,
            "left": null,
            "margin": null,
            "max_height": null,
            "max_width": null,
            "min_height": null,
            "min_width": null,
            "object_fit": null,
            "object_position": null,
            "order": null,
            "overflow": null,
            "overflow_x": null,
            "overflow_y": null,
            "padding": null,
            "right": null,
            "top": null,
            "visibility": null,
            "width": null
          }
        },
        "cee77669dc2c47079b978ef98ff4861d": {
          "model_module": "@jupyter-widgets/controls",
          "model_name": "DescriptionStyleModel",
          "model_module_version": "1.5.0",
          "state": {
            "_model_module": "@jupyter-widgets/controls",
            "_model_module_version": "1.5.0",
            "_model_name": "DescriptionStyleModel",
            "_view_count": null,
            "_view_module": "@jupyter-widgets/base",
            "_view_module_version": "1.2.0",
            "_view_name": "StyleView",
            "description_width": ""
          }
        },
        "e5eb44dffa1b44348d278686274d0490": {
          "model_module": "@jupyter-widgets/base",
          "model_name": "LayoutModel",
          "model_module_version": "1.2.0",
          "state": {
            "_model_module": "@jupyter-widgets/base",
            "_model_module_version": "1.2.0",
            "_model_name": "LayoutModel",
            "_view_count": null,
            "_view_module": "@jupyter-widgets/base",
            "_view_module_version": "1.2.0",
            "_view_name": "LayoutView",
            "align_content": null,
            "align_items": null,
            "align_self": null,
            "border": null,
            "bottom": null,
            "display": null,
            "flex": null,
            "flex_flow": null,
            "grid_area": null,
            "grid_auto_columns": null,
            "grid_auto_flow": null,
            "grid_auto_rows": null,
            "grid_column": null,
            "grid_gap": null,
            "grid_row": null,
            "grid_template_areas": null,
            "grid_template_columns": null,
            "grid_template_rows": null,
            "height": null,
            "justify_content": null,
            "justify_items": null,
            "left": null,
            "margin": null,
            "max_height": null,
            "max_width": null,
            "min_height": null,
            "min_width": null,
            "object_fit": null,
            "object_position": null,
            "order": null,
            "overflow": null,
            "overflow_x": null,
            "overflow_y": null,
            "padding": null,
            "right": null,
            "top": null,
            "visibility": null,
            "width": null
          }
        },
        "500c6f4145124926a9780c527443b2b1": {
          "model_module": "@jupyter-widgets/controls",
          "model_name": "ProgressStyleModel",
          "model_module_version": "1.5.0",
          "state": {
            "_model_module": "@jupyter-widgets/controls",
            "_model_module_version": "1.5.0",
            "_model_name": "ProgressStyleModel",
            "_view_count": null,
            "_view_module": "@jupyter-widgets/base",
            "_view_module_version": "1.2.0",
            "_view_name": "StyleView",
            "bar_color": null,
            "description_width": ""
          }
        },
        "741dcaef83f5443dabd78303a683c6a9": {
          "model_module": "@jupyter-widgets/base",
          "model_name": "LayoutModel",
          "model_module_version": "1.2.0",
          "state": {
            "_model_module": "@jupyter-widgets/base",
            "_model_module_version": "1.2.0",
            "_model_name": "LayoutModel",
            "_view_count": null,
            "_view_module": "@jupyter-widgets/base",
            "_view_module_version": "1.2.0",
            "_view_name": "LayoutView",
            "align_content": null,
            "align_items": null,
            "align_self": null,
            "border": null,
            "bottom": null,
            "display": null,
            "flex": null,
            "flex_flow": null,
            "grid_area": null,
            "grid_auto_columns": null,
            "grid_auto_flow": null,
            "grid_auto_rows": null,
            "grid_column": null,
            "grid_gap": null,
            "grid_row": null,
            "grid_template_areas": null,
            "grid_template_columns": null,
            "grid_template_rows": null,
            "height": null,
            "justify_content": null,
            "justify_items": null,
            "left": null,
            "margin": null,
            "max_height": null,
            "max_width": null,
            "min_height": null,
            "min_width": null,
            "object_fit": null,
            "object_position": null,
            "order": null,
            "overflow": null,
            "overflow_x": null,
            "overflow_y": null,
            "padding": null,
            "right": null,
            "top": null,
            "visibility": null,
            "width": null
          }
        },
        "a4a1e50379d24f468d178fb9d39b748f": {
          "model_module": "@jupyter-widgets/controls",
          "model_name": "DescriptionStyleModel",
          "model_module_version": "1.5.0",
          "state": {
            "_model_module": "@jupyter-widgets/controls",
            "_model_module_version": "1.5.0",
            "_model_name": "DescriptionStyleModel",
            "_view_count": null,
            "_view_module": "@jupyter-widgets/base",
            "_view_module_version": "1.2.0",
            "_view_name": "StyleView",
            "description_width": ""
          }
        }
      }
    }
  },
  "cells": [
    {
      "cell_type": "markdown",
      "source": [
        "# Importing important modules"
      ],
      "metadata": {
        "id": "Lb4OJ844cFZv"
      }
    },
    {
      "cell_type": "code",
      "source": [
        "import tensorflow as tf\n",
        "import tensorflow_datasets as tfds\n",
        "import matplotlib.pyplot as plt"
      ],
      "metadata": {
        "id": "RwKl01zvcK_x"
      },
      "execution_count": 9,
      "outputs": []
    },
    {
      "cell_type": "markdown",
      "source": [
        "# Loading the MNIST dataset"
      ],
      "metadata": {
        "id": "vAU9aPlhcOiL"
      }
    },
    {
      "cell_type": "markdown",
      "source": [
        "Loading the train dataset"
      ],
      "metadata": {
        "id": "PgTAhWjfcdu8"
      }
    },
    {
      "cell_type": "code",
      "source": [
        "# Load the MNIST dataset from google for handwritten digits recognisition\n",
        "mnist = tfds.load(\"mnist\", split=\"train\", as_supervised=True)\n",
        "mnist = mnist.map(lambda x, y: (tf.image.convert_image_dtype(x, tf.float32), tf.one_hot(y, depth=10)))\n",
        "mnist = mnist.shuffle(buffer_size=60000).batch(64).prefetch(buffer_size=tf.data.AUTOTUNE)"
      ],
      "metadata": {
        "colab": {
          "base_uri": "https://localhost:8080/",
          "height": 104,
          "referenced_widgets": [
            "b4e74d729ee447cc89a5937e058d9a74",
            "0d36ca0931e0444db833194076cc364b",
            "5a5e97827cd64d66b94acfbc1189f367",
            "d02754bb9c244e9289a33839a0821034",
            "1d8fc0c18aaa4788bd761248538e5861",
            "b841a90c8c2e4f2c9cb894a0e8e051b6",
            "cee77669dc2c47079b978ef98ff4861d",
            "e5eb44dffa1b44348d278686274d0490",
            "500c6f4145124926a9780c527443b2b1",
            "741dcaef83f5443dabd78303a683c6a9",
            "a4a1e50379d24f468d178fb9d39b748f"
          ]
        },
        "id": "dx9lZIwDchEt",
        "outputId": "485ab35e-e334-4cae-f5ed-650609b1599f"
      },
      "execution_count": 2,
      "outputs": [
        {
          "output_type": "stream",
          "name": "stdout",
          "text": [
            "Downloading and preparing dataset 11.06 MiB (download: 11.06 MiB, generated: 21.00 MiB, total: 32.06 MiB) to /root/tensorflow_datasets/mnist/3.0.1...\n"
          ]
        },
        {
          "output_type": "display_data",
          "data": {
            "text/plain": [
              "Dl Completed...:   0%|          | 0/5 [00:00<?, ? file/s]"
            ],
            "application/vnd.jupyter.widget-view+json": {
              "version_major": 2,
              "version_minor": 0,
              "model_id": "b4e74d729ee447cc89a5937e058d9a74"
            }
          },
          "metadata": {}
        },
        {
          "output_type": "stream",
          "name": "stdout",
          "text": [
            "Dataset mnist downloaded and prepared to /root/tensorflow_datasets/mnist/3.0.1. Subsequent calls will reuse this data.\n"
          ]
        }
      ]
    },
    {
      "cell_type": "markdown",
      "source": [
        "Loading the test dataset\n",
        "\n"
      ],
      "metadata": {
        "id": "x7C_aEj-ck_N"
      }
    },
    {
      "cell_type": "code",
      "source": [
        "# Evaluating the model\n",
        "mnist_test = tfds.load('mnist', split=\"test\", as_supervised=True)\n",
        "mnist_test = mnist_test.map(lambda x, y: (tf.image.convert_image_dtype(x, tf.float32), tf.one_hot(y, depth=10)))\n",
        "mnist_test = mnist_test.batch(64).prefetch(buffer_size=tf.data.AUTOTUNE)"
      ],
      "metadata": {
        "id": "2U5GjqZHcpGe"
      },
      "execution_count": 3,
      "outputs": []
    },
    {
      "cell_type": "markdown",
      "source": [
        "Defining the CNN model"
      ],
      "metadata": {
        "id": "ZYNZGVUlcuX-"
      }
    },
    {
      "cell_type": "code",
      "source": [
        "# Define the model using relu activation function and softmax activation\n",
        "# Softmax activation is commonly used for the output layer in multi-class classification tasks.\n",
        "# Data set is digit recognisition\n",
        "model = tf.keras.Sequential([\n",
        "    tf.keras.layers.Flatten(input_shape=(28, 28, 1)),\n",
        "    tf.keras.layers.Dense(128, activation='relu'),\n",
        "    tf.keras.layers.Dense(10, activation='softmax')\n",
        "])"
      ],
      "metadata": {
        "id": "6pn3KA2ic0kj"
      },
      "execution_count": 4,
      "outputs": []
    },
    {
      "cell_type": "markdown",
      "source": [
        "# Dynamic focal loss function"
      ],
      "metadata": {
        "id": "pdp7BQ8Yc3ku"
      }
    },
    {
      "cell_type": "code",
      "source": [
        "def dynamic_focal_loss(y_true, y_pred, alpha=0.25):\n",
        "    # Compute the binary cross-entropy loss\n",
        "    binary_cross_entropy = tf.losses.binary_crossentropy(y_true, y_pred, from_logits=False)\n",
        "\n",
        "    p_t = tf.math.exp(-binary_cross_entropy)\n",
        "\n",
        "    alpha = 0.25\n",
        "\n",
        "    # Calculate the difficulty as the difference between the predicted probability of the true class\n",
        "    # and the maximum predicted probability across all classes\n",
        "    max_pred_prob = tf.reduce_max(y_pred, axis=1)\n",
        "    true_class_prob = tf.reduce_sum(y_true * y_pred, axis=1)\n",
        "    difficulty = tf.abs(true_class_prob - max_pred_prob)\n",
        "\n",
        "    # Calculate the adaptive gamma value as the difficulty\n",
        "    gamma = 1/((difficulty**2)+1)\n",
        "\n",
        "    # Calculate the focal loss\n",
        "    focal_loss = alpha * (1 - p_t) ** gamma * binary_cross_entropy\n",
        "\n",
        "    return focal_loss"
      ],
      "metadata": {
        "id": "z-rfDlnVc97_"
      },
      "execution_count": 5,
      "outputs": []
    },
    {
      "cell_type": "markdown",
      "source": [
        "Training the model"
      ],
      "metadata": {
        "id": "dW_FlpOMdGFy"
      }
    },
    {
      "cell_type": "code",
      "source": [
        "# Compiling the model with the Focal Loss\n",
        "model.compile(optimizer='adam', loss=dynamic_focal_loss, metrics=['accuracy'])\n",
        "\n",
        "# Training the model\n",
        "history = model.fit(mnist, epochs=30)"
      ],
      "metadata": {
        "colab": {
          "base_uri": "https://localhost:8080/"
        },
        "id": "UXaZFDNNdH1g",
        "outputId": "e1395714-3a47-446b-db0d-97da2100791d"
      },
      "execution_count": 11,
      "outputs": [
        {
          "output_type": "stream",
          "name": "stdout",
          "text": [
            "Epoch 1/30\n",
            "938/938 [==============================] - 11s 5ms/step - loss: nan - accuracy: 0.0987\n",
            "Epoch 2/30\n",
            "938/938 [==============================] - 9s 7ms/step - loss: nan - accuracy: 0.0987\n",
            "Epoch 3/30\n",
            "938/938 [==============================] - 8s 6ms/step - loss: nan - accuracy: 0.0987\n",
            "Epoch 4/30\n",
            "938/938 [==============================] - 8s 5ms/step - loss: nan - accuracy: 0.0987\n",
            "Epoch 5/30\n",
            "938/938 [==============================] - 8s 5ms/step - loss: nan - accuracy: 0.0987\n",
            "Epoch 6/30\n",
            "938/938 [==============================] - 9s 6ms/step - loss: nan - accuracy: 0.0987\n",
            "Epoch 7/30\n",
            "938/938 [==============================] - 8s 6ms/step - loss: nan - accuracy: 0.0987\n",
            "Epoch 8/30\n",
            "938/938 [==============================] - 7s 5ms/step - loss: nan - accuracy: 0.0987\n",
            "Epoch 9/30\n",
            "938/938 [==============================] - 8s 5ms/step - loss: nan - accuracy: 0.0987\n",
            "Epoch 10/30\n",
            "938/938 [==============================] - 8s 6ms/step - loss: nan - accuracy: 0.0987\n",
            "Epoch 11/30\n",
            "938/938 [==============================] - 8s 6ms/step - loss: nan - accuracy: 0.0987\n",
            "Epoch 12/30\n",
            "938/938 [==============================] - 8s 6ms/step - loss: nan - accuracy: 0.0987\n",
            "Epoch 13/30\n",
            "938/938 [==============================] - 8s 6ms/step - loss: nan - accuracy: 0.0987\n",
            "Epoch 14/30\n",
            "938/938 [==============================] - 7s 5ms/step - loss: nan - accuracy: 0.0987\n",
            "Epoch 15/30\n",
            "938/938 [==============================] - 8s 6ms/step - loss: nan - accuracy: 0.0987\n",
            "Epoch 16/30\n",
            "938/938 [==============================] - 9s 6ms/step - loss: nan - accuracy: 0.0987\n",
            "Epoch 17/30\n",
            "938/938 [==============================] - 8s 5ms/step - loss: nan - accuracy: 0.0987\n",
            "Epoch 18/30\n",
            "938/938 [==============================] - 7s 5ms/step - loss: nan - accuracy: 0.0987\n",
            "Epoch 19/30\n",
            "938/938 [==============================] - 8s 6ms/step - loss: nan - accuracy: 0.0987\n",
            "Epoch 20/30\n",
            "938/938 [==============================] - 9s 7ms/step - loss: nan - accuracy: 0.0987\n",
            "Epoch 21/30\n",
            "938/938 [==============================] - 8s 6ms/step - loss: nan - accuracy: 0.0987\n",
            "Epoch 22/30\n",
            "938/938 [==============================] - 8s 5ms/step - loss: nan - accuracy: 0.0987\n",
            "Epoch 23/30\n",
            "938/938 [==============================] - 8s 5ms/step - loss: nan - accuracy: 0.0987\n",
            "Epoch 24/30\n",
            "938/938 [==============================] - 8s 6ms/step - loss: nan - accuracy: 0.0987\n",
            "Epoch 25/30\n",
            "938/938 [==============================] - 8s 6ms/step - loss: nan - accuracy: 0.0987\n",
            "Epoch 26/30\n",
            "938/938 [==============================] - 8s 6ms/step - loss: nan - accuracy: 0.0987\n",
            "Epoch 27/30\n",
            "938/938 [==============================] - 8s 5ms/step - loss: nan - accuracy: 0.0987\n",
            "Epoch 28/30\n",
            "938/938 [==============================] - 8s 6ms/step - loss: nan - accuracy: 0.0987\n",
            "Epoch 29/30\n",
            "938/938 [==============================] - 8s 5ms/step - loss: nan - accuracy: 0.0987\n",
            "Epoch 30/30\n",
            "938/938 [==============================] - 8s 5ms/step - loss: nan - accuracy: 0.0987\n"
          ]
        }
      ]
    },
    {
      "cell_type": "markdown",
      "source": [
        "Evaluating the model"
      ],
      "metadata": {
        "id": "ffObYARBdMWS"
      }
    },
    {
      "cell_type": "code",
      "source": [
        "loss, accuracy = model.evaluate(mnist_test)\n",
        "\n",
        "print(f\"Test Loss: {loss}, Test Accuracy: {accuracy}\")\n"
      ],
      "metadata": {
        "colab": {
          "base_uri": "https://localhost:8080/"
        },
        "id": "cZBV6W8VdQPu",
        "outputId": "2cb7e30b-6ca4-4f04-a202-76e45fb74e90"
      },
      "execution_count": 12,
      "outputs": [
        {
          "output_type": "stream",
          "name": "stdout",
          "text": [
            "157/157 [==============================] - 3s 17ms/step - loss: nan - accuracy: 0.0980\n",
            "Test Loss: nan, Test Accuracy: 0.09799999743700027\n"
          ]
        }
      ]
    },
    {
      "cell_type": "code",
      "source": [],
      "metadata": {
        "id": "-ylsPQEtrdb8"
      },
      "execution_count": null,
      "outputs": []
    }
  ]
}